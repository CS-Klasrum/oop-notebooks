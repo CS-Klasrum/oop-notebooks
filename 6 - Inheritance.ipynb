{
 "cells": [
  {
   "cell_type": "markdown",
   "metadata": {},
   "source": [
    "# Inheritance\n",
    "\n",
    "Inheritance is a mechanism in which a class could aquire the properties of another class (referred to as the parent class). "
   ]
  },
  {
   "cell_type": "markdown",
   "metadata": {},
   "source": [
    "## A Simple Example"
   ]
  },
  {
   "cell_type": "markdown",
   "metadata": {},
   "source": [
    "### Parent Class"
   ]
  },
  {
   "cell_type": "code",
   "execution_count": 79,
   "metadata": {},
   "outputs": [],
   "source": [
    "class Shape:\n",
    "    __area = 0\n",
    "    __color = \"Red\"\n",
    "    \n",
    "    def __init__(self):\n",
    "        print(\"A shape has been created\")\n",
    "        \n",
    "    def _set_area(self, area):\n",
    "        self.__area = area\n",
    "        \n",
    "    def _get_area(self):\n",
    "        return self.__area\n",
    "    \n",
    "    def _set_color(self, color):\n",
    "        self.__color = color\n",
    "        \n",
    "    def _get_color(self):\n",
    "        return self.__color"
   ]
  },
  {
   "cell_type": "markdown",
   "metadata": {},
   "source": [
    "### Child Class\n",
    "\n",
    "`super()` is function acting as a proxy object for the parent class."
   ]
  },
  {
   "cell_type": "code",
   "execution_count": 87,
   "metadata": {},
   "outputs": [],
   "source": [
    "class Circle(Shape):\n",
    "    def __init__(self, color = None):\n",
    "        super().__init__()\n",
    "        \n",
    "        if color:\n",
    "            super()._set_color(color)\n",
    "        \n",
    "        print(f\"A circle was created with the default area of {super()._get_area()} and filled with {super()._get_color()} paint.\")\n",
    "        \n",
    "    def set_area(self, radius):\n",
    "        super()._set_area(3.1416 * (radius * radius))\n",
    "    \n",
    "    def get_area(self):\n",
    "        return super()._get_area()\n",
    "    \n",
    "    def get_color(self):\n",
    "        return super()._get_color()\n",
    "    "
   ]
  },
  {
   "cell_type": "code",
   "execution_count": 88,
   "metadata": {},
   "outputs": [
    {
     "name": "stdout",
     "output_type": "stream",
     "text": [
      "A shape has been created\n",
      "A circle was created with the default area of 0 and filled with Red paint.\n"
     ]
    }
   ],
   "source": [
    "circle_a = Circle()"
   ]
  },
  {
   "cell_type": "code",
   "execution_count": 89,
   "metadata": {},
   "outputs": [
    {
     "name": "stdout",
     "output_type": "stream",
     "text": [
      "A shape has been created\n",
      "A circle was created with the default area of 0 and filled with Blue paint.\n"
     ]
    }
   ],
   "source": [
    "circle_b = Circle(\"Blue\")"
   ]
  },
  {
   "cell_type": "code",
   "execution_count": 90,
   "metadata": {},
   "outputs": [
    {
     "data": {
      "text/plain": [
       "1256.6399999999999"
      ]
     },
     "execution_count": 90,
     "metadata": {},
     "output_type": "execute_result"
    }
   ],
   "source": [
    "circle_b.set_area(20)\n",
    "circle_b.get_area()"
   ]
  },
  {
   "cell_type": "markdown",
   "metadata": {},
   "source": [
    "### EXERCISE\n",
    "\n",
    "\n",
    "**INSTRUCTION**\n",
    "1. Add 3 more shapes (apply correct computation for getting the area of the selected shapes e.g. Circle)"
   ]
  },
  {
   "cell_type": "code",
   "execution_count": 91,
   "metadata": {},
   "outputs": [],
   "source": [
    "# Your code goes here"
   ]
  },
  {
   "cell_type": "markdown",
   "metadata": {},
   "source": [
    "## A Complex one"
   ]
  },
  {
   "cell_type": "markdown",
   "metadata": {},
   "source": [
    "### Parent Class"
   ]
  },
  {
   "cell_type": "code",
   "execution_count": 92,
   "metadata": {},
   "outputs": [],
   "source": [
    "class Account:\n",
    "    __account_id = None\n",
    "    __username = None\n",
    "    __password = None\n",
    "    __email = None\n",
    "    __birthdate = None\n",
    "    \n",
    "    def __init__(self, id):\n",
    "        self.__account_id = id\n",
    "        \n",
    "    def _get_id(self):\n",
    "        return self.__account_id\n",
    "        \n",
    "    def _set_username(self, uid): # UID = User ID\n",
    "        self.__username = uid\n",
    "        \n",
    "    def _get_username(self):\n",
    "        return self.__username\n",
    "    \n",
    "    def _set_password(self, pwd): # PWD = Password\n",
    "        self.__password = pwd\n",
    "        \n",
    "    def _is_password(self, login_pwd): # Check login password is equal to user's password\n",
    "        return self.__password == login_pwd\n",
    "    \n",
    "    def _set_email(self, email):\n",
    "        self.__email = email\n",
    "        \n",
    "    def _get_email(self):\n",
    "        return self.__email"
   ]
  },
  {
   "cell_type": "markdown",
   "metadata": {},
   "source": [
    "### Child Class"
   ]
  },
  {
   "cell_type": "code",
   "execution_count": 93,
   "metadata": {},
   "outputs": [],
   "source": [
    "class Student(Account):\n",
    "    __logged = False\n",
    "    \n",
    "    def __init__(self, id, username, password, email):\n",
    "        # Call the constructor function of the parent class using the proxy\n",
    "        super().__init__(id)\n",
    "        \n",
    "        # Assigning other values to the parent class\n",
    "        super()._set_username(username)\n",
    "        super()._set_password(password)\n",
    "        super()._set_email(email)\n",
    "        \n",
    "    def authenticate(self, password):\n",
    "        self.__logged = self._is_password(password)\n",
    "        \n",
    "        return self.__logged\n",
    "        \n",
    "        \n",
    "    def get_info(self):\n",
    "        if not self.__logged:\n",
    "            return \"Authentication is required!\"\n",
    "\n",
    "        return f\"Username: {super()._get_username()}\"\n",
    "        "
   ]
  },
  {
   "cell_type": "code",
   "execution_count": 94,
   "metadata": {},
   "outputs": [
    {
     "data": {
      "text/plain": [
       "'Authentication is required!'"
      ]
     },
     "execution_count": 94,
     "metadata": {},
     "output_type": "execute_result"
    }
   ],
   "source": [
    "john = Student(\"11-0056\", \"jabernardo\", \"1q2w3e\", \"abernardo@collegeofmaryimmaculate.edu.ph\")\n",
    "john.get_info()"
   ]
  },
  {
   "cell_type": "code",
   "execution_count": 95,
   "metadata": {},
   "outputs": [
    {
     "name": "stdout",
     "output_type": "stream",
     "text": [
      "Enter Password:1q2w3e\n"
     ]
    },
    {
     "data": {
      "text/plain": [
       "True"
      ]
     },
     "execution_count": 95,
     "metadata": {},
     "output_type": "execute_result"
    }
   ],
   "source": [
    "john.authenticate(input(\"Enter Password:\"))"
   ]
  },
  {
   "cell_type": "code",
   "execution_count": 97,
   "metadata": {},
   "outputs": [
    {
     "data": {
      "text/plain": [
       "'Username: jabernardo'"
      ]
     },
     "execution_count": 97,
     "metadata": {},
     "output_type": "execute_result"
    }
   ],
   "source": [
    "john.get_info()"
   ]
  },
  {
   "cell_type": "markdown",
   "metadata": {},
   "source": [
    "## ACTIVITY\n",
    "\n",
    "**INSTRUCTIONS**\n",
    "1. Think of an (any) object;\n",
    "2. Represent the acquisition of that object to it's parent object (past generations) using inheritance in classes;\n",
    "    - Minimum of 1 parent class\n",
    "    - Minimum of 3 child classes"
   ]
  },
  {
   "cell_type": "code",
   "execution_count": 98,
   "metadata": {},
   "outputs": [],
   "source": [
    "# You code goes here..."
   ]
  }
 ],
 "metadata": {
  "kernelspec": {
   "display_name": "Python 3",
   "language": "python",
   "name": "python3"
  },
  "language_info": {
   "codemirror_mode": {
    "name": "ipython",
    "version": 3
   },
   "file_extension": ".py",
   "mimetype": "text/x-python",
   "name": "python",
   "nbconvert_exporter": "python",
   "pygments_lexer": "ipython3",
   "version": "3.7.6"
  }
 },
 "nbformat": 4,
 "nbformat_minor": 4
}
