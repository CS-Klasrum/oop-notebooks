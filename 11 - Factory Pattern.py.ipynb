{
 "cells": [
  {
   "cell_type": "markdown",
   "metadata": {},
   "source": [
    "# Factory Pattern\n",
    "#### (Creational Pattern Types)\n",
    "\n",
    "Is a design pattern that utilizes interfaces and uses factory class to generate instances of preferred object."
   ]
  },
  {
   "cell_type": "markdown",
   "metadata": {},
   "source": [
    "## Step 1: Define an interface"
   ]
  },
  {
   "cell_type": "code",
   "execution_count": 4,
   "metadata": {},
   "outputs": [],
   "source": [
    "from abc import ABC, abstractmethod\n",
    "\n",
    "class Shape(ABC):\n",
    "    @abstractmethod\n",
    "    def draw() -> None:\n",
    "        pass\n",
    "        "
   ]
  },
  {
   "cell_type": "markdown",
   "metadata": {},
   "source": [
    "## Step 2: Define concrete classes using the interface "
   ]
  },
  {
   "cell_type": "code",
   "execution_count": 12,
   "metadata": {},
   "outputs": [],
   "source": [
    "class Circle(Shape):\n",
    "    def draw(self) -> None:\n",
    "        print(f\"Drawing {self.__class__.__name__}...\")"
   ]
  },
  {
   "cell_type": "code",
   "execution_count": 26,
   "metadata": {},
   "outputs": [],
   "source": [
    "class Rectangle(Shape):\n",
    "    def draw(self) -> None:\n",
    "        print(f\"Drawing {self.__class__.__name__}...\")"
   ]
  },
  {
   "cell_type": "markdown",
   "metadata": {},
   "source": [
    "## Step 3: Create a factory class"
   ]
  },
  {
   "cell_type": "code",
   "execution_count": 27,
   "metadata": {},
   "outputs": [],
   "source": [
    "class ShapeFactory:\n",
    "    shapes = {\n",
    "        \"circle\": Circle,\n",
    "        \"rectangle\": Rectangle\n",
    "    }\n",
    "    \n",
    "    def get(self, shape: str) -> Shape or None:\n",
    "        lowered = shape.lower()\n",
    "        \n",
    "        if lowered in self.shapes:\n",
    "            return self.shapes[lowered]()\n",
    "        \n",
    "        return None\n",
    "        "
   ]
  },
  {
   "cell_type": "markdown",
   "metadata": {},
   "source": [
    "## Demo"
   ]
  },
  {
   "cell_type": "code",
   "execution_count": 28,
   "metadata": {},
   "outputs": [
    {
     "name": "stdout",
     "output_type": "stream",
     "text": [
      "Drawing Circle...\n",
      "Drawing Rectangle...\n"
     ]
    }
   ],
   "source": [
    "shapeFactory = ShapeFactory()\n",
    "\n",
    "circle = shapeFactory.get(\"circle\")\n",
    "circle.draw()\n",
    "\n",
    "rectangle = shapeFactory.get(\"rectangle\")\n",
    "rectangle.draw()"
   ]
  },
  {
   "cell_type": "markdown",
   "metadata": {},
   "source": [
    "## Activity: Create your own example"
   ]
  },
  {
   "cell_type": "code",
   "execution_count": 29,
   "metadata": {},
   "outputs": [],
   "source": [
    "# your code goes here"
   ]
  }
 ],
 "metadata": {
  "kernelspec": {
   "display_name": "Python 3",
   "language": "python",
   "name": "python3"
  },
  "language_info": {
   "codemirror_mode": {
    "name": "ipython",
    "version": 3
   },
   "file_extension": ".py",
   "mimetype": "text/x-python",
   "name": "python",
   "nbconvert_exporter": "python",
   "pygments_lexer": "ipython3",
   "version": "3.7.6"
  }
 },
 "nbformat": 4,
 "nbformat_minor": 4
}
