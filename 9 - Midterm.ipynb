{
 "cells": [
  {
   "cell_type": "markdown",
   "metadata": {},
   "source": [
    "# Fundametals of Object-Oriented Programming\n",
    "## CMI - Midterm Examination in Object-Oriented Programming\n",
    "\n",
    "### INSTRUCTION\n",
    "\n",
    "1. Design a structure for a working logger (must implement inheritance, static, abstraction, and function abstraction).\n",
    "\n",
    "\n",
    "#### NOTES\n",
    "- No ideas would be provided for loggers"
   ]
  },
  {
   "cell_type": "code",
   "execution_count": null,
   "metadata": {},
   "outputs": [],
   "source": [
    "# your code goes here ..."
   ]
  }
 ],
 "metadata": {
  "kernelspec": {
   "display_name": "Python 3",
   "language": "python",
   "name": "python3"
  },
  "language_info": {
   "codemirror_mode": {
    "name": "ipython",
    "version": 3
   },
   "file_extension": ".py",
   "mimetype": "text/x-python",
   "name": "python",
   "nbconvert_exporter": "python",
   "pygments_lexer": "ipython3",
   "version": "3.7.6"
  }
 },
 "nbformat": 4,
 "nbformat_minor": 4
}
