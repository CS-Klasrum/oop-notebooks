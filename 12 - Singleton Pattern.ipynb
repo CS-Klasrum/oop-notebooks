{
 "cells": [
  {
   "cell_type": "markdown",
   "metadata": {},
   "source": [
    "# Singleton Pattern\n",
    "#### (A Creational Pattern)\n",
    "\n",
    "This pattern make sures that only one instance of an object should be created in the entire program. A Singleton class could be directly access even without instantiating it."
   ]
  },
  {
   "cell_type": "markdown",
   "metadata": {},
   "source": [
    "## Creating a Singleton Class"
   ]
  },
  {
   "cell_type": "code",
   "execution_count": 31,
   "metadata": {},
   "outputs": [],
   "source": [
    "class DatabaseConnection:\n",
    "    __connection = None\n",
    "    \n",
    "    def __init__(self):\n",
    "        if not self.__connection == None:\n",
    "            raise Exception(\"Connection could only be instantiated once!\")\n",
    "            \n",
    "        DatabaseConnection.__connection = self\n",
    "    \n",
    "    @staticmethod\n",
    "    def getInstance():\n",
    "        if DatabaseConnection.__connection == None:\n",
    "            return DatabaseConnection()\n",
    "        \n",
    "        return DatabaseConnection.__connection"
   ]
  },
  {
   "cell_type": "markdown",
   "metadata": {},
   "source": [
    "## Using Singleton Class"
   ]
  },
  {
   "cell_type": "code",
   "execution_count": 32,
   "metadata": {},
   "outputs": [
    {
     "data": {
      "text/plain": [
       "<__main__.DatabaseConnection at 0x1170dce2748>"
      ]
     },
     "execution_count": 32,
     "metadata": {},
     "output_type": "execute_result"
    }
   ],
   "source": [
    "client1 = DatabaseConnection()\n",
    "client1"
   ]
  },
  {
   "cell_type": "code",
   "execution_count": 33,
   "metadata": {},
   "outputs": [
    {
     "data": {
      "text/plain": [
       "<__main__.DatabaseConnection at 0x1170dce2748>"
      ]
     },
     "execution_count": 33,
     "metadata": {},
     "output_type": "execute_result"
    }
   ],
   "source": [
    "client2 = DatabaseConnection.getInstance()\n",
    "client2"
   ]
  },
  {
   "cell_type": "code",
   "execution_count": 34,
   "metadata": {},
   "outputs": [
    {
     "data": {
      "text/plain": [
       "<__main__.DatabaseConnection at 0x1170dce2748>"
      ]
     },
     "execution_count": 34,
     "metadata": {},
     "output_type": "execute_result"
    }
   ],
   "source": [
    "client3 = DatabaseConnection.getInstance()\n",
    "client3"
   ]
  },
  {
   "cell_type": "code",
   "execution_count": null,
   "metadata": {},
   "outputs": [],
   "source": []
  }
 ],
 "metadata": {
  "kernelspec": {
   "display_name": "Python 3",
   "language": "python",
   "name": "python3"
  },
  "language_info": {
   "codemirror_mode": {
    "name": "ipython",
    "version": 3
   },
   "file_extension": ".py",
   "mimetype": "text/x-python",
   "name": "python",
   "nbconvert_exporter": "python",
   "pygments_lexer": "ipython3",
   "version": "3.7.6"
  }
 },
 "nbformat": 4,
 "nbformat_minor": 4
}
