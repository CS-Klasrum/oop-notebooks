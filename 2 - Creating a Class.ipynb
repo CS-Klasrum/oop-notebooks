{
 "cells": [
  {
   "cell_type": "markdown",
   "metadata": {},
   "source": [
    "# Creating Class\n",
    "\n",
    "\n",
    "In Python, we uses `class`  keyword to create a class.\n",
    "\n",
    "\n",
    "Syntax:\n",
    "\n",
    "```\n",
    "class ClassName:\n",
    "```"
   ]
  },
  {
   "cell_type": "code",
   "execution_count": null,
   "metadata": {},
   "outputs": [],
   "source": [
    "class Car:"
   ]
  },
  {
   "cell_type": "markdown",
   "metadata": {},
   "source": [
    "## Constructor\n",
    "\n",
    "Constructor is a function that will be executed everytime we instantiate an object from a class\n",
    "\n",
    "Syntax: \n",
    "\n",
    "```\n",
    "class ClassName:\n",
    "    def __init__(self):\n",
    "        pass\n",
    "```\n",
    "\n",
    "\n",
    "### __init__\n",
    "\n",
    "In Python, we define constructors using the function name `__init__`. It is also called a magic function.\n",
    "[See more of magic functions.](https://www.geeksforgeeks.org/dunder-magic-methods-python/)\n",
    "\n",
    "\n",
    "### Required Parameters\n",
    "- `self` - Is a variable referring to the instance of the object itself\n",
    "\n",
    "\n"
   ]
  },
  {
   "cell_type": "code",
   "execution_count": null,
   "metadata": {},
   "outputs": [],
   "source": [
    "class Car:\n",
    "    def __init__(self):\n",
    "        print(\"A car has been created\")"
   ]
  },
  {
   "cell_type": "markdown",
   "metadata": {},
   "source": [
    "## Instantiate an object\n",
    "\n",
    "\n",
    "Syntax:\n",
    "\n",
    "```\n",
    "variable_name = Class()\n",
    "```"
   ]
  },
  {
   "cell_type": "code",
   "execution_count": 6,
   "metadata": {},
   "outputs": [
    {
     "name": "stdout",
     "output_type": "stream",
     "text": [
      "A car has been created\n"
     ]
    }
   ],
   "source": [
    "class Car:\n",
    "    def __init__(self):\n",
    "        print(\"A car has been created\")\n",
    "        \n",
    "        \n",
    "mazda3 = Car()"
   ]
  },
  {
   "cell_type": "markdown",
   "metadata": {},
   "source": [
    "## Deconstructor\n",
    "\n",
    "A deconstructor function is called everytime an object is deleted from the memory."
   ]
  },
  {
   "cell_type": "code",
   "execution_count": 13,
   "metadata": {},
   "outputs": [
    {
     "name": "stdout",
     "output_type": "stream",
     "text": [
      "A car has been created\n",
      "The car has been destroyed in a car crash\n"
     ]
    }
   ],
   "source": [
    "class Car:\n",
    "    def __init__(self):\n",
    "        print(\"A car has been created\")\n",
    "        \n",
    "    def __del__(self):\n",
    "        print(\"The car has been destroyed in a car crash\")\n",
    "        \n",
    "mazda3 = Car()\n",
    "# Boooom!\n",
    "del mazda3"
   ]
  },
  {
   "cell_type": "markdown",
   "metadata": {},
   "source": [
    "## Class Attributes\n",
    "\n",
    "A class or an object could have a its own properties. \n",
    "In order for us to get the attributes of a class we use the variable `self`\n"
   ]
  },
  {
   "cell_type": "code",
   "execution_count": 10,
   "metadata": {},
   "outputs": [
    {
     "name": "stdout",
     "output_type": "stream",
     "text": [
      "A new Unknown Car has been created\n"
     ]
    }
   ],
   "source": [
    "class Car:\n",
    "    name = \"Unknown Car\"\n",
    "    \n",
    "    def __init__(self):\n",
    "        print(f'A new {self.name} has been created')\n",
    "        \n",
    "        \n",
    "new_car = Car()"
   ]
  },
  {
   "cell_type": "markdown",
   "metadata": {},
   "source": [
    "### Getting object attributes\n",
    "\n",
    "\n",
    "In the last example, we explained how we could get the attributes of a class\n",
    "Now here is an example of how we could get the attribute of a certain object.\n",
    "\n"
   ]
  },
  {
   "cell_type": "code",
   "execution_count": 11,
   "metadata": {},
   "outputs": [
    {
     "name": "stdout",
     "output_type": "stream",
     "text": [
      "A new Unknown Car has been created\n",
      "Are you sure you want to buy this Unknown Car?\n"
     ]
    }
   ],
   "source": [
    "\n",
    "class Car:\n",
    "    name = \"Unknown Car\"\n",
    "    \n",
    "    def __init__(self):\n",
    "        print(f'A new {self.name} has been created')\n",
    "        \n",
    "        \n",
    "new_car = Car()\n",
    "\n",
    "print(f'Are you sure you want to buy this {new_car.name}?')"
   ]
  },
  {
   "cell_type": "markdown",
   "metadata": {},
   "source": [
    "## Overwriting object attributes\n",
    "\n",
    "Now, we would like to change the name of the car.\n",
    "\n",
    "As an option for this example, we would be passing another parameter for the name of the car."
   ]
  },
  {
   "cell_type": "code",
   "execution_count": 12,
   "metadata": {},
   "outputs": [
    {
     "name": "stdout",
     "output_type": "stream",
     "text": [
      "A new Mazda 3 has been created\n",
      "Are you sure you want to buy this Mazda 3?\n"
     ]
    }
   ],
   "source": [
    "\n",
    "class Car:\n",
    "    name = \"Unknown Car\" # Original name\n",
    "    \n",
    "    def __init__(self, car_name): # We'll add here the new parameter\n",
    "        self.name = car_name # Then overwrite the original name\n",
    "        print(f'A new {self.name} has been created')\n",
    "        \n",
    "        \n",
    "new_car = Car(\"Mazda 3\") # Pass the new name as a string\n",
    "# Remember, there are 2 parameters in this class the `self` and the `car_name`\n",
    "# But, in Python `self` is automatically passed upon instantiating an object\n",
    "# See our past examples\n",
    "\n",
    "print(f'Are you sure you want to buy this {new_car.name}?')"
   ]
  },
  {
   "cell_type": "markdown",
   "metadata": {},
   "source": [
    "## Activty\n",
    "\n",
    "Create a program to print the following output.\n",
    "The program must contain 2 class:\n",
    "\n",
    "1. Person\n",
    "2. Painting\n",
    "\n",
    "\n",
    "```\n",
    "A new person was born, named Alex.\n",
    "A new person was born, named Aysa.\n",
    "The age gap between Alex and Aysa was 4 years.\n",
    "Alex was born in Bulacan, while Aysa in Manila.\n",
    "Alex creates a new Painting\n",
    "A Painting of Aysa was created\n",
    "The delivery car crashed.\n",
    "The painting was destroyed\n",
    "```"
   ]
  },
  {
   "cell_type": "code",
   "execution_count": null,
   "metadata": {},
   "outputs": [],
   "source": [
    "# Start with here ...\n",
    "class Person:"
   ]
  }
 ],
 "metadata": {
  "kernelspec": {
   "display_name": "Python 3",
   "language": "python",
   "name": "python3"
  },
  "language_info": {
   "codemirror_mode": {
    "name": "ipython",
    "version": 3
   },
   "file_extension": ".py",
   "mimetype": "text/x-python",
   "name": "python",
   "nbconvert_exporter": "python",
   "pygments_lexer": "ipython3",
   "version": "3.7.6"
  }
 },
 "nbformat": 4,
 "nbformat_minor": 4
}
