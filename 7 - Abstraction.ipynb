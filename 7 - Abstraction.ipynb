{
 "cells": [
  {
   "cell_type": "markdown",
   "metadata": {},
   "source": [
    "# Abstraction\n",
    "\n",
    "**Abstraction** is basically hiding the things your doing in your code only allowing the users to access **mutators** from your code. Like we have done in the past activities with the use of [encapsulation](https://github.com/CS-Klasrum/oop-notebooks/blob/master/5%20-%20Public%2C%20Protected%2C%20and%20Private.ipynb). "
   ]
  },
  {
   "cell_type": "code",
   "execution_count": 25,
   "metadata": {},
   "outputs": [],
   "source": [
    "class Student:\n",
    "    _course = None\n",
    "    \n",
    "    def __init__(self, number, name):\n",
    "        self.number = number\n",
    "        self.name = name\n",
    "        \n",
    "    def set_course(self, course):\n",
    "        self._course = course\n",
    "        \n",
    "    def get_course(self):\n",
    "        return self._course"
   ]
  },
  {
   "cell_type": "markdown",
   "metadata": {},
   "source": [
    "## What is function abstraction?\n",
    "\n",
    "**Function abstraction** is a form of interface ensuring that important functions are implemented on sub-classes\n",
    "\n",
    "\n",
    "## The ABC of Python\n",
    "\n",
    "**ABC** is a standard library in Python. Allowing us to define and use abstract based classes for interface verification\n",
    "\n",
    "*SOURCE: https://pymotw.com/3/abc/#why-use-abstract-base-classes*"
   ]
  },
  {
   "cell_type": "markdown",
   "metadata": {},
   "source": [
    "> Let's create a new interface using the ABC library"
   ]
  },
  {
   "cell_type": "code",
   "execution_count": 26,
   "metadata": {},
   "outputs": [],
   "source": [
    "from abc import ABC, abstractmethod\n",
    "\n",
    "class Car(ABC):\n",
    "    def __init__(self):\n",
    "        super().__init__()\n",
    "        \n",
    "    @abstractmethod\n",
    "    def start(self):\n",
    "        \"\"\"\n",
    "        What to do?\n",
    "        \"\"\""
   ]
  },
  {
   "cell_type": "markdown",
   "metadata": {},
   "source": [
    "> We will be creating a class from the `Car` class."
   ]
  },
  {
   "cell_type": "code",
   "execution_count": 27,
   "metadata": {},
   "outputs": [
    {
     "ename": "TypeError",
     "evalue": "Can't instantiate abstract class Lamborghini with abstract methods start",
     "output_type": "error",
     "traceback": [
      "\u001b[1;31m---------------------------------------------------------------------------\u001b[0m",
      "\u001b[1;31mTypeError\u001b[0m                                 Traceback (most recent call last)",
      "\u001b[1;32m<ipython-input-27-755279606054>\u001b[0m in \u001b[0;36m<module>\u001b[1;34m\u001b[0m\n\u001b[0;32m      5\u001b[0m \u001b[1;33m\u001b[0m\u001b[0m\n\u001b[0;32m      6\u001b[0m \u001b[1;31m# Cannot run this line!!!\u001b[0m\u001b[1;33m\u001b[0m\u001b[1;33m\u001b[0m\u001b[1;33m\u001b[0m\u001b[0m\n\u001b[1;32m----> 7\u001b[1;33m \u001b[0maventador\u001b[0m \u001b[1;33m=\u001b[0m \u001b[0mLamborghini\u001b[0m\u001b[1;33m(\u001b[0m\u001b[1;33m)\u001b[0m\u001b[1;33m\u001b[0m\u001b[1;33m\u001b[0m\u001b[0m\n\u001b[0m\u001b[0;32m      8\u001b[0m \u001b[0maventador\u001b[0m\u001b[1;33m.\u001b[0m\u001b[0mstart\u001b[0m\u001b[1;33m(\u001b[0m\u001b[1;33m)\u001b[0m\u001b[1;33m\u001b[0m\u001b[1;33m\u001b[0m\u001b[0m\n",
      "\u001b[1;31mTypeError\u001b[0m: Can't instantiate abstract class Lamborghini with abstract methods start"
     ]
    }
   ],
   "source": [
    "class Lamborghini(Car):\n",
    "    def __init__(self):\n",
    "        super().__init__()\n",
    "        print(\"New Lambo!\")\n",
    "        \n",
    "# Cannot run this line!!!\n",
    "aventador = Lamborghini()\n",
    "aventador.start()"
   ]
  },
  {
   "cell_type": "markdown",
   "metadata": {},
   "source": [
    "> Why we can't run the code above?\n",
    "\n",
    "## Following the interface"
   ]
  },
  {
   "cell_type": "code",
   "execution_count": 28,
   "metadata": {},
   "outputs": [
    {
     "name": "stdout",
     "output_type": "stream",
     "text": [
      "New Lambo!\n",
      "Starting the Lambo!\n"
     ]
    }
   ],
   "source": [
    "class Lamborghini(Car):\n",
    "    def __init__(self):\n",
    "        super().__init__()\n",
    "        print(\"New Lambo!\")\n",
    "        \n",
    "    def start(self):\n",
    "        print(\"Starting the Lambo!\")\n",
    "\n",
    "aventador = Lamborghini()\n",
    "aventador.start()"
   ]
  },
  {
   "cell_type": "markdown",
   "metadata": {},
   "source": [
    "## Activity \n",
    "\n",
    "Continue the example code above. Make sure to design the code structure in a good way. Based in real-life application."
   ]
  },
  {
   "cell_type": "code",
   "execution_count": null,
   "metadata": {},
   "outputs": [],
   "source": [
    "# Your code goes here"
   ]
  }
 ],
 "metadata": {
  "kernelspec": {
   "display_name": "Python 3",
   "language": "python",
   "name": "python3"
  },
  "language_info": {
   "codemirror_mode": {
    "name": "ipython",
    "version": 3
   },
   "file_extension": ".py",
   "mimetype": "text/x-python",
   "name": "python",
   "nbconvert_exporter": "python",
   "pygments_lexer": "ipython3",
   "version": "3.7.6"
  }
 },
 "nbformat": 4,
 "nbformat_minor": 4
}
