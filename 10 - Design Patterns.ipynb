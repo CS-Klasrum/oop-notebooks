{
 "cells": [
  {
   "cell_type": "markdown",
   "metadata": {},
   "source": [
    "# Design Patterns\n",
    "\n",
    "Are sets of best practices based from experienced Object-Oriented Software developers. These Design Patterns ran through a set of trials and errors from the past decades in-order to solve the most common problems encountered in developing softwares.\n",
    "\n",
    "## The \"Gang of Four\" (GOF)\n",
    "\n",
    "There was a book publish in 1994 about software engineering describing software design patterns. This book was written by Erich Gamma, Richard Helm, Ralph Johnson, and John Vlissides. The book was about the pros and cons of Object-Oriented programming, and some given code examples of classic software design patterns written in C++ and Smalltalk.\n",
    "\n",
    "## Patterns by Type\n",
    "\n",
    "### Creational\n",
    "\n",
    "Creational patterns is a pattern that creates and provides the object, rather than to instantiate the object directly.\n",
    "\n",
    "- [Abstract factory](https://en.wikipedia.org/wiki/Abstract_factory_pattern)\n",
    "- [Builder](https://en.wikipedia.org/wiki/Builder_pattern)\n",
    "- [Factory method](https://en.wikipedia.org/wiki/Factory_method_pattern)\n",
    "- [Protoype](https://en.wikipedia.org/wiki/Prototype_pattern)\n",
    "- [Singleton](https://en.wikipedia.org/wiki/Singleton_pattern)\n",
    "\n",
    "\n",
    "## Structural\n",
    "\n",
    "These patterns uses interitance to compose interfaces and define ways to compose objects.\n",
    "\n",
    "- [Adapter](https://en.wikipedia.org/wiki/Adapter_pattern)\n",
    "- [Bridge](https://en.wikipedia.org/wiki/Bridge_pattern)\n",
    "- [Composite](https://en.wikipedia.org/wiki/Composite_pattern)\n",
    "- [Decorator](https://en.wikipedia.org/wiki/Decorator_pattern)\n",
    "- [Facade](https://en.wikipedia.org/wiki/Facade_pattern)\n",
    "- [Flyweight](https://en.wikipedia.org/wiki/Flyweight_pattern)\n",
    "- [Proxy](https://en.wikipedia.org/wiki/Proxy_pattern)\n",
    "\n",
    "### Behavioral\n",
    "\n",
    "These patterns are concerned with communication between objects.\n",
    "\n",
    "- [Chain of responsibility](https://en.wikipedia.org/wiki/Chain-of-responsibility_pattern)\n",
    "- [Command](https://en.wikipedia.org/wiki/Command_pattern)\n",
    "- [Interpreter](https://en.wikipedia.org/wiki/Interpreter_pattern)\n",
    "- [Iterator](https://en.wikipedia.org/wiki/Interpreter_pattern)\n",
    "- [Mediator](https://en.wikipedia.org/wiki/Mediator_pattern)\n",
    "- [Memento](https://en.wikipedia.org/wiki/Memento_pattern)\n",
    "- [Observer](https://en.wikipedia.org/wiki/Observer_pattern)\n",
    "- [State](https://en.wikipedia.org/wiki/State_pattern)\n",
    "- [Strategy](https://en.wikipedia.org/wiki/Strategy_pattern)\n",
    "- [Template method](https://en.wikipedia.org/wiki/Template_method_pattern)\n",
    "- [Visitor](https://en.wikipedia.org/wiki/Visitor_pattern)\n",
    "\n",
    "**SOURCES**\n",
    "- Wikipedia (2020). Design Patterns. https://en.wikipedia.org/wiki/Design_Patterns\n",
    "- TutorialsPoint (2020). https://www.tutorialspoint.com/design_pattern/"
   ]
  },
  {
   "cell_type": "code",
   "execution_count": null,
   "metadata": {},
   "outputs": [],
   "source": []
  }
 ],
 "metadata": {
  "kernelspec": {
   "display_name": "Python 3",
   "language": "python",
   "name": "python3"
  },
  "language_info": {
   "codemirror_mode": {
    "name": "ipython",
    "version": 3
   },
   "file_extension": ".py",
   "mimetype": "text/x-python",
   "name": "python",
   "nbconvert_exporter": "python",
   "pygments_lexer": "ipython3",
   "version": "3.7.6"
  }
 },
 "nbformat": 4,
 "nbformat_minor": 4
}
