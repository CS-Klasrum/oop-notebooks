{
 "cells": [
  {
   "cell_type": "markdown",
   "metadata": {},
   "source": [
    "# Polymorphism"
   ]
  },
  {
   "cell_type": "markdown",
   "metadata": {},
   "source": [
    "In programming, Polymorphism defines a function with different signatures or uses for different types. "
   ]
  },
  {
   "cell_type": "markdown",
   "metadata": {},
   "source": [
    "## Polymorphic Functions"
   ]
  },
  {
   "cell_type": "markdown",
   "metadata": {},
   "source": [
    "`len` is a built-in function in python that counts any data type. It is considered polymorphic since it could take any data as parameter."
   ]
  },
  {
   "cell_type": "code",
   "execution_count": 3,
   "metadata": {},
   "outputs": [
    {
     "name": "stdout",
     "output_type": "stream",
     "text": [
      "12\n",
      "5\n"
     ]
    }
   ],
   "source": [
    "print(len(\"Hello CMIan!\"))\n",
    "print(len([1, 2, 3, 4, 5]))"
   ]
  },
  {
   "cell_type": "markdown",
   "metadata": {},
   "source": [
    "## Polymorphic Classes"
   ]
  },
  {
   "cell_type": "code",
   "execution_count": 22,
   "metadata": {},
   "outputs": [
    {
     "name": "stdout",
     "output_type": "stream",
     "text": [
      "Askal (Canis lupus familiaris) is a dog breed originated from the Philippines and has a lifespan of 15 - 20 years.\n",
      "BullTerrier (Mini Bull) is a dog breed originated from the England and has a lifespan of 10 - 14 years.\n"
     ]
    }
   ],
   "source": [
    "class Askal:\n",
    "    other_name = \"Canis lupus familiaris\"\n",
    "    rank = \"breed\"\n",
    "    origin = \"Philippines\"\n",
    "    lifespan = \"15 - 20 years\"\n",
    "    \n",
    "    def get_breed(self):\n",
    "        return self.__class__.__name__\n",
    "    \n",
    "    def get_other_name(self):\n",
    "        return self.other_name\n",
    "    \n",
    "    def get_rank(self):\n",
    "        return self.rank\n",
    "        \n",
    "    def get_origin(self):\n",
    "        return self.origin\n",
    "    \n",
    "    def get_lifespan(self):\n",
    "        return self.lifespan\n",
    "    \n",
    "class Bull_Terrier:\n",
    "    other_name = \"Mini Bull\"\n",
    "    rank = \"breed\"\n",
    "    origin = \"England\"\n",
    "    lifespan = \"10 - 14 years\"\n",
    "    \n",
    "    def get_breed(self):\n",
    "        return self.__class__.__name__\n",
    "    \n",
    "    def get_other_name(self):\n",
    "        return self.other_name\n",
    "    \n",
    "    def get_rank(self):\n",
    "        return self.rank\n",
    "        \n",
    "    def get_origin(self):\n",
    "        return self.origin\n",
    "    \n",
    "    def get_lifespan(self):\n",
    "        return self.lifespan\n",
    "    \n",
    "    \n",
    "object_askal = Askal()\n",
    "object_minibull = BullTerrier()\n",
    "\n",
    "\n",
    "for dog in (object_askal,object_minibull):\n",
    "    print(f'{dog.get_breed()} ({dog.get_other_name()}) is a dog {dog.get_rank()} originated from the {dog.get_origin()} and has a lifespan of {dog.get_lifespan()}.')\n"
   ]
  },
  {
   "cell_type": "markdown",
   "metadata": {},
   "source": [
    "## Activity"
   ]
  },
  {
   "cell_type": "markdown",
   "metadata": {},
   "source": [
    "Create your own examples of Polymorphic classes that we could use in solving real-world problems."
   ]
  },
  {
   "cell_type": "code",
   "execution_count": null,
   "metadata": {},
   "outputs": [],
   "source": [
    "## Write your code here..."
   ]
  }
 ],
 "metadata": {
  "kernelspec": {
   "display_name": "Python 3",
   "language": "python",
   "name": "python3"
  },
  "language_info": {
   "codemirror_mode": {
    "name": "ipython",
    "version": 3
   },
   "file_extension": ".py",
   "mimetype": "text/x-python",
   "name": "python",
   "nbconvert_exporter": "python",
   "pygments_lexer": "ipython3",
   "version": "3.7.6"
  }
 },
 "nbformat": 4,
 "nbformat_minor": 4
}
