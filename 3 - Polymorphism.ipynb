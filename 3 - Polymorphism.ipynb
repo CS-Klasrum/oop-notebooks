{
 "cells": [
  {
   "cell_type": "markdown",
   "metadata": {},
   "source": [
    "# Polymorphism"
   ]
  },
  {
   "cell_type": "markdown",
   "metadata": {},
   "source": [
    "In programming, Polymorphism defines a function with different signatures or uses for different types. "
   ]
  },
  {
   "cell_type": "markdown",
   "metadata": {},
   "source": [
    "## Polymorphic Functions"
   ]
  },
  {
   "cell_type": "markdown",
   "metadata": {},
   "source": [
    "`len` is a built-in function in python that counts any data type. It is considered polymorphic since it could take any data as parameter."
   ]
  },
  {
   "cell_type": "code",
   "execution_count": 3,
   "metadata": {},
   "outputs": [
    {
     "name": "stdout",
     "output_type": "stream",
     "text": [
      "12\n",
      "5\n"
     ]
    }
   ],
   "source": [
    "print(len(\"Hello CMIan!\"))\n",
    "print(len([1, 2, 3, 4, 5]))"
   ]
  },
  {
   "cell_type": "markdown",
   "metadata": {},
   "source": [
    "## Polymorphic Classes"
   ]
  },
  {
   "cell_type": "markdown",
   "metadata": {},
   "source": [
    "Polymorphic Classes are classes offering the same interface but doesn't mean they are implementing the same thing."
   ]
  },
  {
   "cell_type": "markdown",
   "metadata": {},
   "source": [
    "### An example\n",
    "\n",
    "Here we have **Askal** and **Bull_Terrier**, see that both classes have the same functions or interfaces (`get_breed`, `get_other_name`, `get_rank`, `get_origin`, and `get_lifespan`). Notice the difference!"
   ]
  },
  {
   "cell_type": "code",
   "execution_count": 20,
   "metadata": {},
   "outputs": [],
   "source": [
    "class Askal:\n",
    "    scientific_name = \"Canis lupus familiaris\"\n",
    "    rank = \"breed\"\n",
    "    origin = \"Philippines\"\n",
    "    lifespan = \"15 - 20 years\"\n",
    "    \n",
    "    def get_breed(self):\n",
    "        return self.__class__.__name__\n",
    "    \n",
    "    def get_other_name(self):\n",
    "        return self.scientific_name\n",
    "    \n",
    "    def get_rank(self):\n",
    "        return self.rank\n",
    "        \n",
    "    def get_origin(self):\n",
    "        return self.origin\n",
    "    \n",
    "    def get_lifespan(self):\n",
    "        return self.lifespan"
   ]
  },
  {
   "cell_type": "code",
   "execution_count": 21,
   "metadata": {},
   "outputs": [],
   "source": [
    "class Bull_Terrier:\n",
    "    alias = \"Mini Bull\"\n",
    "    rank = \"breed\"\n",
    "    origin = \"England\"\n",
    "    lifespan = \"10 - 14 years\"\n",
    "    \n",
    "    def get_breed(self):\n",
    "        return self.__class__.__name__\n",
    "    \n",
    "    def get_other_name(self):\n",
    "        return self.alias\n",
    "    \n",
    "    def get_rank(self):\n",
    "        return self.rank\n",
    "        \n",
    "    def get_origin(self):\n",
    "        return self.origin\n",
    "    \n",
    "    def get_lifespan(self):\n",
    "        return self.lifespan"
   ]
  },
  {
   "cell_type": "code",
   "execution_count": 9,
   "metadata": {},
   "outputs": [
    {
     "name": "stdout",
     "output_type": "stream",
     "text": [
      "Askal (Canis lupus familiaris) is a dog breed originated from the Philippines and has a lifespan of 15 - 20 years.\n",
      "Bull_Terrier (Mini Bull) is a dog breed originated from the England and has a lifespan of 10 - 14 years.\n"
     ]
    }
   ],
   "source": [
    "object_askal = Askal()\n",
    "object_minibull = Bull_Terrier()\n",
    "\n",
    "for dog in (object_askal,object_minibull):\n",
    "    print(f'{dog.get_breed()} ({dog.get_other_name()}) is a dog {dog.get_rank()} originated from the {dog.get_origin()} and has a lifespan of {dog.get_lifespan()}.')"
   ]
  },
  {
   "cell_type": "markdown",
   "metadata": {},
   "source": [
    "## Another example"
   ]
  },
  {
   "cell_type": "code",
   "execution_count": 34,
   "metadata": {},
   "outputs": [],
   "source": [
    "class Circle:\n",
    "    radius = 0\n",
    "    \n",
    "    def __init__(self, radius):\n",
    "        self.radius = radius\n",
    "    \n",
    "    def get_area(self):\n",
    "        return 3.1416 * (self.radius  * self.radius)"
   ]
  },
  {
   "cell_type": "code",
   "execution_count": 28,
   "metadata": {},
   "outputs": [],
   "source": [
    "class Rectangle:\n",
    "    height = 0\n",
    "    width = 0\n",
    "    \n",
    "    def __init__(self, height, width):\n",
    "        self.height = height\n",
    "        self.width = width\n",
    "    \n",
    "    def get_area(self):\n",
    "        return self.height * self.width"
   ]
  },
  {
   "cell_type": "code",
   "execution_count": 35,
   "metadata": {},
   "outputs": [
    {
     "name": "stdout",
     "output_type": "stream",
     "text": [
      "28.2744\n",
      "60000\n"
     ]
    }
   ],
   "source": [
    "circle = Circle(3)\n",
    "rectangle = Rectangle(240, 320)\n",
    "\n",
    "print(circle.get_area())\n",
    "print(rectangle.get_area())"
   ]
  },
  {
   "cell_type": "markdown",
   "metadata": {},
   "source": [
    "## Activity"
   ]
  },
  {
   "cell_type": "markdown",
   "metadata": {},
   "source": [
    "Create examples of Polymorphic classes for the following:"
   ]
  },
  {
   "cell_type": "markdown",
   "metadata": {},
   "source": [
    "### Your example #1: User Profiles and Roles (e.g. Admin, Student, Teacher, etc...)\n",
    "\n",
    "#### *** 3 classes minimum ***"
   ]
  },
  {
   "cell_type": "code",
   "execution_count": 39,
   "metadata": {},
   "outputs": [],
   "source": [
    "## Your example #1"
   ]
  },
  {
   "cell_type": "markdown",
   "metadata": {},
   "source": [
    "### Your example #2: Products (e.g. Foods: Meals, Fruits, Drinks ...)\n",
    "#### *** 3 classes minimum ***"
   ]
  },
  {
   "cell_type": "code",
   "execution_count": 40,
   "metadata": {},
   "outputs": [],
   "source": [
    "## Your example #2"
   ]
  },
  {
   "cell_type": "markdown",
   "metadata": {},
   "source": [
    "### You example #3: Any topic\n",
    "\n",
    "#### *** 3 classes minimum ***"
   ]
  },
  {
   "cell_type": "code",
   "execution_count": 38,
   "metadata": {},
   "outputs": [],
   "source": [
    "## Your example #3"
   ]
  }
 ],
 "metadata": {
  "kernelspec": {
   "display_name": "Python 3",
   "language": "python",
   "name": "python3"
  },
  "language_info": {
   "codemirror_mode": {
    "name": "ipython",
    "version": 3
   },
   "file_extension": ".py",
   "mimetype": "text/x-python",
   "name": "python",
   "nbconvert_exporter": "python",
   "pygments_lexer": "ipython3",
   "version": "3.7.6"
  }
 },
 "nbformat": 4,
 "nbformat_minor": 4
}
