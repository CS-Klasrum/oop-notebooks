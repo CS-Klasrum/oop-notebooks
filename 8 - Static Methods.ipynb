{
 "cells": [
  {
   "cell_type": "markdown",
   "metadata": {},
   "source": [
    "# Static Methods\n",
    "\n",
    "Remember that everything in Python is an object thus it have also have its own properties and methods. A static method is a member of a class that could be executed without instantiating an object."
   ]
  },
  {
   "cell_type": "code",
   "execution_count": 8,
   "metadata": {},
   "outputs": [],
   "source": [
    "class Bus:\n",
    "    __terminal = \"A\""
   ]
  },
  {
   "cell_type": "code",
   "execution_count": 7,
   "metadata": {},
   "outputs": [
    {
     "ename": "AttributeError",
     "evalue": "type object 'Bus' has no attribute '__terminal'",
     "output_type": "error",
     "traceback": [
      "\u001b[1;31m---------------------------------------------------------------------------\u001b[0m",
      "\u001b[1;31mAttributeError\u001b[0m                            Traceback (most recent call last)",
      "\u001b[1;32m<ipython-input-7-3f5785e46c4b>\u001b[0m in \u001b[0;36m<module>\u001b[1;34m\u001b[0m\n\u001b[0;32m      1\u001b[0m \u001b[1;31m# This would throw an error since `__terminal` is a private member\u001b[0m\u001b[1;33m\u001b[0m\u001b[1;33m\u001b[0m\u001b[1;33m\u001b[0m\u001b[0m\n\u001b[1;32m----> 2\u001b[1;33m \u001b[0mBus\u001b[0m\u001b[1;33m.\u001b[0m\u001b[0m__terminal\u001b[0m\u001b[1;33m\u001b[0m\u001b[1;33m\u001b[0m\u001b[0m\n\u001b[0m",
      "\u001b[1;31mAttributeError\u001b[0m: type object 'Bus' has no attribute '__terminal'"
     ]
    }
   ],
   "source": [
    "# This would throw an error since `__terminal` is a private member\n",
    "Bus.__terminal"
   ]
  },
  {
   "cell_type": "markdown",
   "metadata": {},
   "source": [
    "## Example Static Method"
   ]
  },
  {
   "cell_type": "code",
   "execution_count": 9,
   "metadata": {},
   "outputs": [],
   "source": [
    "class Bus:\n",
    "    __terminal = \"A\"\n",
    "    \n",
    "    @staticmethod\n",
    "    def getTerminal():\n",
    "        return Bus.__terminal"
   ]
  },
  {
   "cell_type": "code",
   "execution_count": 10,
   "metadata": {},
   "outputs": [
    {
     "data": {
      "text/plain": [
       "'A'"
      ]
     },
     "execution_count": 10,
     "metadata": {},
     "output_type": "execute_result"
    }
   ],
   "source": [
    "Bus.getTerminal()"
   ]
  },
  {
   "cell_type": "markdown",
   "metadata": {},
   "source": [
    "### Explanation\n",
    "\n",
    "As you could see we have defined a method inside our class named `getTerminal` and thus return only `Bus.__terminal`. But why does it work? remember a private member could be only accessed inside the class itself. \n",
    "\n",
    "In defining static methods, we don't have to pass `self` or the instance of the object since we're not actually creating an object.\n",
    "\n",
    "> Wait, what is `@staticmethod`? \n",
    "> It is a decorator function that would tell our program to make the `getTerminal` a static method.\n",
    "> Learn more about decorators [here](https://www.programiz.com/python-programming/decorator)\n"
   ]
  },
  {
   "cell_type": "markdown",
   "metadata": {},
   "source": [
    "## Updating value of a class using static method"
   ]
  },
  {
   "cell_type": "code",
   "execution_count": 20,
   "metadata": {},
   "outputs": [],
   "source": [
    "class Bus:\n",
    "    __terminal = \"A\"\n",
    "    \n",
    "    def __init__(self):\n",
    "        print(\"Bus created in Terminal\", self.__terminal)\n",
    "    \n",
    "    @staticmethod\n",
    "    def getTerminal():\n",
    "        return Bus.__terminal\n",
    "    \n",
    "    @staticmethod\n",
    "    def setTerminal(letter):\n",
    "        Bus.__terminal = letter"
   ]
  },
  {
   "cell_type": "code",
   "execution_count": 21,
   "metadata": {},
   "outputs": [
    {
     "name": "stdout",
     "output_type": "stream",
     "text": [
      "Bus created in Terminal A\n"
     ]
    }
   ],
   "source": [
    "bus1 = Bus()"
   ]
  },
  {
   "cell_type": "code",
   "execution_count": 22,
   "metadata": {},
   "outputs": [],
   "source": [
    "Bus.setTerminal(\"B\")"
   ]
  },
  {
   "cell_type": "code",
   "execution_count": 23,
   "metadata": {},
   "outputs": [
    {
     "name": "stdout",
     "output_type": "stream",
     "text": [
      "Bus created in Terminal B\n"
     ]
    }
   ],
   "source": [
    "bus2 = Bus()"
   ]
  },
  {
   "cell_type": "markdown",
   "metadata": {},
   "source": [
    "## Wrap-up\n",
    "\n",
    "In the example, you could see that we have instantiated `bus1` in terminal `A` then call our static method `setTerminal` to assign the terminal to `B` in our class. As we instantiate the `bus2` from `Bus` class you could see that terminal was logged as `B`.\n",
    "\n",
    "This only an example of usage of static methods.\n",
    "\n",
    "### When should we use a static method?\n",
    "1. When the method would not rely on the instantiated object.\n",
    "2. When creating utility classes.\n",
    "3. When sharing of some codes between instance methods."
   ]
  },
  {
   "cell_type": "markdown",
   "metadata": {},
   "source": [
    "## Practice, practice, practice\n",
    "\n",
    "Came up with a utility function that you think would be useful for everyone.\n",
    "\n",
    "### Example"
   ]
  },
  {
   "cell_type": "code",
   "execution_count": 63,
   "metadata": {},
   "outputs": [],
   "source": [
    "class Math:\n",
    "    @staticmethod\n",
    "    def average(*args):\n",
    "        total = 0\n",
    "        \n",
    "        for num in args:\n",
    "            total += num\n",
    "        \n",
    "        return total / len(args)\n",
    "    \n",
    "    @staticmethod\n",
    "    def factorial(number):\n",
    "        total = 1\n",
    "        \n",
    "        for n in range(1, number + 1):\n",
    "            total *= n\n",
    "        \n",
    "        return total"
   ]
  },
  {
   "cell_type": "code",
   "execution_count": 64,
   "metadata": {},
   "outputs": [
    {
     "data": {
      "text/plain": [
       "3.0"
      ]
     },
     "execution_count": 64,
     "metadata": {},
     "output_type": "execute_result"
    }
   ],
   "source": [
    "Math.average(1, 2, 3, 4, 5)"
   ]
  },
  {
   "cell_type": "code",
   "execution_count": 65,
   "metadata": {},
   "outputs": [
    {
     "data": {
      "text/plain": [
       "120"
      ]
     },
     "execution_count": 65,
     "metadata": {},
     "output_type": "execute_result"
    }
   ],
   "source": [
    "Math.factorial(5)"
   ]
  },
  {
   "cell_type": "code",
   "execution_count": 66,
   "metadata": {},
   "outputs": [
    {
     "data": {
      "text/plain": [
       "1"
      ]
     },
     "execution_count": 66,
     "metadata": {},
     "output_type": "execute_result"
    }
   ],
   "source": [
    "Math.factorial(0)"
   ]
  },
  {
   "cell_type": "markdown",
   "metadata": {},
   "source": [
    "## Your code goes here...."
   ]
  },
  {
   "cell_type": "code",
   "execution_count": null,
   "metadata": {},
   "outputs": [],
   "source": []
  }
 ],
 "metadata": {
  "kernelspec": {
   "display_name": "Python 3",
   "language": "python",
   "name": "python3"
  },
  "language_info": {
   "codemirror_mode": {
    "name": "ipython",
    "version": 3
   },
   "file_extension": ".py",
   "mimetype": "text/x-python",
   "name": "python",
   "nbconvert_exporter": "python",
   "pygments_lexer": "ipython3",
   "version": "3.7.6"
  }
 },
 "nbformat": 4,
 "nbformat_minor": 4
}
