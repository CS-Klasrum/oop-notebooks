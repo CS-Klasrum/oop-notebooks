{
 "cells": [
  {
   "cell_type": "markdown",
   "metadata": {},
   "source": [
    "# Generalizing Objects \n",
    "## CMI - Preliminary Examination in Object-Oriented Programming\n",
    "\n",
    "### INSTRUCTIONS\n",
    "\n",
    "1. Visualize the College of Mary Immaculate's Library;\n",
    "2. Identify all the objects on it (in your head);\n",
    "3. Create representations of all these real-life objects in classes like if you we're developing a Library System.\n",
    "4. Make sure describe each class (comment it out or create a new markdown cell -- TAGALOG is okay) \n"
   ]
  },
  {
   "cell_type": "code",
   "execution_count": 2,
   "metadata": {},
   "outputs": [],
   "source": [
    "class Library:\n",
    "    books = []\n",
    "    \n",
    "    def __init__(self):\n",
    "        pass\n",
    "    \n",
    "    def addBook(self):\n",
    "        pass\n",
    "    \n",
    "    def lend(self):\n",
    "        pass\n",
    "    \n",
    "class Book:\n",
    "    def __init__(self):\n",
    "        pass"
   ]
  }
 ],
 "metadata": {
  "kernelspec": {
   "display_name": "Python 3",
   "language": "python",
   "name": "python3"
  },
  "language_info": {
   "codemirror_mode": {
    "name": "ipython",
    "version": 3
   },
   "file_extension": ".py",
   "mimetype": "text/x-python",
   "name": "python",
   "nbconvert_exporter": "python",
   "pygments_lexer": "ipython3",
   "version": "3.7.6"
  }
 },
 "nbformat": 4,
 "nbformat_minor": 4
}
